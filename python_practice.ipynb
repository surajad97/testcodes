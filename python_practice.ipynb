{
 "cells": [
  {
   "cell_type": "code",
   "execution_count": 12,
   "metadata": {},
   "outputs": [
    {
     "name": "stdout",
     "output_type": "stream",
     "text": [
      "108.0\n",
      "None\n"
     ]
    }
   ],
   "source": [
    "def parent_func():\n",
    "    def child_func(x = 100):\n",
    "        print(x * 1.08)\n",
    "    return child_func\n",
    "\n",
    "output = parent_func()\n",
    "print(output())"
   ]
  },
  {
   "cell_type": "code",
   "execution_count": 25,
   "metadata": {},
   "outputs": [],
   "source": [
    "with open (\"hamlet.txt\", 'w') as input:\n",
    "    with open (\"final.txt\", 'w') as output:\n",
    "        output.write(\"\\nTHIS IS THE NEW LINE\")\n",
    "        input.write(\"This is old line\")\n"
   ]
  },
  {
   "cell_type": "code",
   "execution_count": 26,
   "metadata": {},
   "outputs": [],
   "source": [
    "with open (\"hamlet.txt\", 'r') as input:\n",
    "    with open (\"final.txt\", 'w') as output:\n",
    "        content = input.read()\n",
    "        output.write(content)\n",
    "        output.write(\"\\nThis is the new line\")"
   ]
  },
  {
   "cell_type": "code",
   "execution_count": 38,
   "metadata": {},
   "outputs": [],
   "source": [
    "with open(r\"C:\\Users\\Suraj\\Desktop\\ResumePrompt.txt\", 'r') as input1:\n",
    "    with open(r\"C:\\Users\\Suraj\\Desktop\\Coverletterprompt.txt\", 'r') as input2:\n",
    "        with open (\"CV_CL_prompt.txt\", 'w') as output:\n",
    "            content1 = input1.read()\n",
    "            content2 = input2.read()\n",
    "            output.write(content1)\n",
    "            output.write(\"\\n\\n\")\n",
    "            output.write(content2)"
   ]
  },
  {
   "cell_type": "code",
   "execution_count": 6,
   "metadata": {},
   "outputs": [
    {
     "name": "stdout",
     "output_type": "stream",
     "text": [
      " \n",
      "  Args:\n",
      "    x1 (int): first number\n",
      "    x2 (int): second number\n",
      "  \n",
      "  Returns:\n",
      "    int\n",
      "  \n"
     ]
    }
   ],
   "source": [
    "def math_is_fun(x1, x2):\n",
    "  \"\"\" \n",
    "  Args:\n",
    "    x1 (int): first number\n",
    "    x2 (int): second number\n",
    "  \n",
    "  Returns:\n",
    "    int\n",
    "  \"\"\"\n",
    "  return x1 * x2\n",
    "\n",
    "print(math_is_fun.__doc__)"
   ]
  },
  {
   "cell_type": "code",
   "execution_count": 37,
   "metadata": {},
   "outputs": [],
   "source": [
    "from contextlib import contextmanager"
   ]
  },
  {
   "cell_type": "code",
   "execution_count": 59,
   "metadata": {},
   "outputs": [
    {
     "name": "stdout",
     "output_type": "stream",
     "text": [
      "Logging the results\n",
      "The results are 200\n",
      "All done\n"
     ]
    }
   ],
   "source": [
    "@contextmanager\n",
    "def logging():\n",
    "    print(\"Logging the results\")\n",
    "    yield 200\n",
    "    print(\"All done\")\n",
    "\n",
    "with logging() as log:\n",
    "    print(\"The results are {}\".format(log))"
   ]
  },
  {
   "cell_type": "code",
   "execution_count": 47,
   "metadata": {},
   "outputs": [],
   "source": [
    "def groceries_list(my_list = None):\n",
    "    if my_list is None:\n",
    "        my_list = []\n",
    "    my_list.append(\"banana\")\n",
    "    return my_list \n",
    "\n",
    "groceries_list()"
   ]
  },
  {
   "cell_type": "code",
   "execution_count": 56,
   "metadata": {},
   "outputs": [
    {
     "name": "stdout",
     "output_type": "stream",
     "text": [
      "35.75\n"
     ]
    }
   ],
   "source": [
    "lst = [15, 9, 55, 41, 35, 20, 62, 49]\n",
    "\n",
    "def compute(value):\n",
    "    def Average():\n",
    "        print(sum(value)/len(value))\n",
    "    return Average\n",
    "\n",
    "func = compute(lst)\n",
    "del(lst)\n",
    "func()"
   ]
  },
  {
   "cell_type": "code",
   "execution_count": null,
   "metadata": {},
   "outputs": [],
   "source": []
  }
 ],
 "metadata": {
  "kernelspec": {
   "display_name": "base",
   "language": "python",
   "name": "python3"
  },
  "language_info": {
   "codemirror_mode": {
    "name": "ipython",
    "version": 3
   },
   "file_extension": ".py",
   "mimetype": "text/x-python",
   "name": "python",
   "nbconvert_exporter": "python",
   "pygments_lexer": "ipython3",
   "version": "3.9.13"
  }
 },
 "nbformat": 4,
 "nbformat_minor": 2
}
