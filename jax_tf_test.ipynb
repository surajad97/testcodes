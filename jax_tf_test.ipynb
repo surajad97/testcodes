{
 "cells": [
  {
   "cell_type": "code",
   "execution_count": 1,
   "metadata": {},
   "outputs": [],
   "source": [
    "import time\n",
    "import numpy as np\n",
    "import jax.numpy as jnp\n",
    "import jax\n",
    "import tensorflow as tf\n",
    "from jax import grad, jit, value_and_grad\n",
    "from flax import linen as nn\n",
    "import optax\n",
    "from tensorflow.keras.models import Sequential\n",
    "from tensorflow.keras.layers import Dense, Flatten\n",
    "from tensorflow.keras.optimizers import Adam\n",
    "from tensorflow.keras.datasets import mnist\n",
    "import matplotlib.pyplot as plt"
   ]
  },
  {
   "cell_type": "code",
   "execution_count": 2,
   "metadata": {},
   "outputs": [],
   "source": [
    "# Load dataset (same for both frameworks)\n",
    "(x_train, y_train), (x_test, y_test) = mnist.load_data()\n",
    "\n",
    "# Normalize images\n",
    "x_train, x_test = x_train / 255.0, x_test / 255.0\n",
    "\n",
    "# Convert labels to one-hot encoding for JAX\n",
    "y_train_onehot = np.eye(10)[y_train]\n",
    "y_test_onehot = np.eye(10)[y_test]\n",
    "\n",
    "# Convert to JAX format\n",
    "x_train_jax = jnp.array(x_train)\n",
    "y_train_jax = jnp.array(y_train_onehot)\n",
    "x_test_jax = jnp.array(x_test)\n",
    "y_test_jax = jnp.array(y_test_onehot)"
   ]
  },
  {
   "cell_type": "code",
   "execution_count": null,
   "metadata": {},
   "outputs": [],
   "source": [
    "#Tensorflow Model\n",
    "def build_tf_model():\n",
    "    model = Sequential([\n",
    "        Flatten(input_shape=(28, 28)),\n",
    "        Dense(128, activation='relu'),\n",
    "        Dense(10, activation='softmax')\n",
    "    ])\n",
    "    model.compile(optimizer=Adam(), loss='sparse_categorical_crossentropy', metrics=['accuracy'])\n",
    "    return model"
   ]
  },
  {
   "cell_type": "code",
   "execution_count": 5,
   "metadata": {},
   "outputs": [],
   "source": [
    "#JAX Model (Flax)\n",
    "class JAXModel(nn.Module):\n",
    "    @nn.compact\n",
    "    def __call__(self, x):\n",
    "        x = x.reshape((x.shape[0], -1))  # Flatten input\n",
    "        x = nn.Dense(128)(x)\n",
    "        x = nn.relu(x)\n",
    "        x = nn.Dense(10)(x)\n",
    "        return x\n",
    "\n",
    "# Initialize model\n",
    "jax_model = JAXModel()\n"
   ]
  },
  {
   "cell_type": "code",
   "execution_count": 13,
   "metadata": {},
   "outputs": [],
   "source": [
    "#Tensorflow Training Function\n",
    "def train_tf_model():\n",
    "    model = build_tf_model()\n",
    "    \n",
    "    start_time = time.time()\n",
    "    model.fit(x_train, y_train, epochs=5, batch_size=32, verbose=1)\n",
    "    total_time = time.time() - start_time\n",
    "    \n",
    "    test_loss, test_acc = model.evaluate(x_test, y_test, verbose=0)\n",
    "    print(f\"TensorFlow Training Time: {total_time:.2f} seconds, Test Accuracy: {test_acc:.4f}\")\n",
    "    \n",
    "    return total_time, test_acc\n",
    "\n"
   ]
  },
  {
   "cell_type": "code",
   "execution_count": 14,
   "metadata": {},
   "outputs": [],
   "source": [
    "# Define optimizer\n",
    "optimizer = optax.adam(learning_rate=0.001)\n",
    "\n",
    "# Loss function\n",
    "def loss_fn(params, x, y):\n",
    "    logits = jax_model.apply(params, x)\n",
    "    return jnp.mean(optax.softmax_cross_entropy(logits, y))\n",
    "\n",
    "# Accuracy function\n",
    "def compute_accuracy(params, x, y):\n",
    "    logits = jax_model.apply(params, x)\n",
    "    predictions = jnp.argmax(logits, axis=1)\n",
    "    labels = jnp.argmax(y, axis=1)\n",
    "    return jnp.mean(predictions == labels)\n",
    "\n",
    "# JIT compiled update function\n",
    "@jax.jit\n",
    "def update(params, opt_state, x, y):\n",
    "    loss, grads = value_and_grad(loss_fn)(params, x, y)\n",
    "    updates, opt_state = optimizer.update(grads, opt_state)\n",
    "    params = optax.apply_updates(params, updates)\n",
    "    return params, opt_state, loss\n",
    "\n",
    "# Training function\n",
    "def train_jax_model():\n",
    "    key = jax.random.PRNGKey(0)\n",
    "    params = jax_model.init(key, x_train_jax)\n",
    "    opt_state = optimizer.init(params)\n",
    "\n",
    "    start_time = time.time()\n",
    "\n",
    "    for epoch in range(5):\n",
    "        for i in range(0, len(x_train_jax), 32):  # Batch size 32\n",
    "            x_batch = x_train_jax[i:i+32]\n",
    "            y_batch = y_train_jax[i:i+32]\n",
    "            params, opt_state, loss = update(params, opt_state, x_batch, y_batch)\n",
    "\n",
    "        acc = compute_accuracy(params, x_test_jax, y_test_jax)\n",
    "        print(f\"Epoch {epoch+1}, Loss: {loss:.4f}, Test Accuracy: {acc:.4f}\")\n",
    "\n",
    "    total_time = time.time() - start_time\n",
    "    test_acc = compute_accuracy(params, x_test_jax, y_test_jax)\n",
    "    \n",
    "    print(f\"JAX Training Time: {total_time:.2f} seconds, Test Accuracy: {test_acc:.4f}\")\n",
    "    \n",
    "    return total_time, test_acc\n"
   ]
  },
  {
   "cell_type": "code",
   "execution_count": 15,
   "metadata": {},
   "outputs": [
    {
     "name": "stdout",
     "output_type": "stream",
     "text": [
      "Training with TensorFlow:\n",
      "Epoch 1/5\n",
      "1875/1875 [==============================] - 5s 2ms/step - loss: 0.2614 - accuracy: 0.9247\n",
      "Epoch 2/5\n",
      "1875/1875 [==============================] - 5s 3ms/step - loss: 0.1150 - accuracy: 0.9660\n",
      "Epoch 3/5\n",
      "1875/1875 [==============================] - 5s 3ms/step - loss: 0.0789 - accuracy: 0.9766\n",
      "Epoch 4/5\n",
      "1875/1875 [==============================] - 7s 4ms/step - loss: 0.0584 - accuracy: 0.9822\n",
      "Epoch 5/5\n",
      "1875/1875 [==============================] - 7s 3ms/step - loss: 0.0459 - accuracy: 0.9855\n",
      "TensorFlow Training Time: 28.71 seconds, Test Accuracy: 0.9771\n",
      "\n",
      "Training with JAX:\n",
      "Epoch 1, Loss: 0.0532, Test Accuracy: 0.9523\n",
      "Epoch 2, Loss: 0.0367, Test Accuracy: 0.9645\n",
      "Epoch 3, Loss: 0.0458, Test Accuracy: 0.9635\n",
      "Epoch 4, Loss: 0.0372, Test Accuracy: 0.9676\n",
      "Epoch 5, Loss: 0.0272, Test Accuracy: 0.9698\n",
      "JAX Training Time: 20.31 seconds, Test Accuracy: 0.9698\n"
     ]
    },
    {
     "data": {
      "text/plain": [
       "(20.30962085723877, Array(0.9698, dtype=float32))"
      ]
     },
     "execution_count": 15,
     "metadata": {},
     "output_type": "execute_result"
    }
   ],
   "source": [
    "print(\"Training with TensorFlow:\")\n",
    "train_tf_model()\n",
    "\n",
    "print(\"\\nTraining with JAX:\")\n",
    "train_jax_model()\n"
   ]
  },
  {
   "cell_type": "code",
   "execution_count": 17,
   "metadata": {},
   "outputs": [
    {
     "name": "stdout",
     "output_type": "stream",
     "text": [
      "Training with TensorFlow:\n",
      "Epoch 1/5\n",
      "1875/1875 [==============================] - 6s 3ms/step - loss: 0.2581 - accuracy: 0.9263\n",
      "Epoch 2/5\n",
      "1875/1875 [==============================] - 5s 3ms/step - loss: 0.1143 - accuracy: 0.9656\n",
      "Epoch 3/5\n",
      "1875/1875 [==============================] - 5s 3ms/step - loss: 0.0784 - accuracy: 0.9762\n",
      "Epoch 4/5\n",
      "1875/1875 [==============================] - 8s 4ms/step - loss: 0.0587 - accuracy: 0.9819\n",
      "Epoch 5/5\n",
      "1875/1875 [==============================] - 7s 4ms/step - loss: 0.0460 - accuracy: 0.9857\n",
      "TensorFlow Training Time: 30.66 seconds, Test Accuracy: 0.9750\n",
      "\n",
      "Training with JAX:\n",
      "Epoch 1, Loss: 0.0532, Test Accuracy: 0.9523\n",
      "Epoch 2, Loss: 0.0367, Test Accuracy: 0.9645\n",
      "Epoch 3, Loss: 0.0458, Test Accuracy: 0.9635\n",
      "Epoch 4, Loss: 0.0372, Test Accuracy: 0.9676\n",
      "Epoch 5, Loss: 0.0272, Test Accuracy: 0.9698\n",
      "JAX Training Time: 22.01 seconds, Test Accuracy: 0.9698\n"
     ]
    },
    {
     "data": {
      "image/png": "[encoded data removed]",
      "text/plain": [
       "<Figure size 1200x500 with 2 Axes>"
      ]
     },
     "metadata": {},
     "output_type": "display_data"
    }
   ],
   "source": [
    "print(\"Training with TensorFlow:\")\n",
    "tf_time, tf_acc = train_tf_model()\n",
    "\n",
    "print(\"\\nTraining with JAX:\")\n",
    "jax_time, jax_acc = train_jax_model()\n",
    "\n",
    "# Plot results\n",
    "labels = ['TensorFlow', 'JAX']\n",
    "times = [tf_time, jax_time]\n",
    "accuracies = [tf_acc, jax_acc]\n",
    "\n",
    "plt.figure(figsize=(12, 5))\n",
    "\n",
    "# Training Time Comparison\n",
    "plt.subplot(1, 2, 1)\n",
    "plt.bar(labels, times, color=['blue', 'red'])\n",
    "plt.ylabel('Training Time (seconds)')\n",
    "plt.title('Training Time Comparison')\n",
    "\n",
    "# Accuracy Comparison\n",
    "plt.subplot(1, 2, 2)\n",
    "plt.bar(labels, accuracies, color=['green', 'orange'])\n",
    "plt.ylabel('Test Accuracy')\n",
    "plt.title('Test Accuracy Comparison')\n",
    "\n",
    "plt.show()\n",
    "\n"
   ]
  }
 ],
 "metadata": {
  "kernelspec": {
   "display_name": "tensorflow",
   "language": "python",
   "name": "python3"
  },
  "language_info": {
   "codemirror_mode": {
    "name": "ipython",
    "version": 3
   },
   "file_extension": ".py",
   "mimetype": "text/x-python",
   "name": "python",
   "nbconvert_exporter": "python",
   "pygments_lexer": "ipython3",
   "version": "3.9.15"
  }
 },
 "nbformat": 4,
 "nbformat_minor": 2
}
