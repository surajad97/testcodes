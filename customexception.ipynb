{
 "cells": [
  {
   "cell_type": "markdown",
   "metadata": {},
   "source": [
    "## Custom Exception (Raise and Throw an exception)"
   ]
  },
  {
   "cell_type": "code",
   "execution_count": null,
   "metadata": {},
   "outputs": [],
   "source": [
    "class dobException(Exception):\n",
    "    \"\"\"Raised when the age is not between 20 and 30.\"\"\"\n",
    "    def __init__(self, message=\"Sorry, your age should be between 20 and 30\"):\n",
    "        self.message = message\n",
    "        super().__init__(self.message)"
   ]
  },
  {
   "cell_type": "code",
   "execution_count": 12,
   "metadata": {},
   "outputs": [
    {
     "name": "stdout",
     "output_type": "stream",
     "text": [
      "The age is valid, so you can apply for the exams\n"
     ]
    }
   ],
   "source": [
    "try:\n",
    "    year = int(input(\"Enter your year of birth: \")) \n",
    "    age = 2025 - year\n",
    "\n",
    "    if 20<= age <= 30:\n",
    "        print(\"The age is valid, so you can apply for the exams\")\n",
    "    else:\n",
    "        raise dobException()\n",
    "    \n",
    "except ValueError:\n",
    "   print(\"Invalid Input! Please enter a valid year (numbers only).\")\n",
    "\n",
    "except dobException as e:\n",
    "    print(e)"
   ]
  }
 ],
 "metadata": {
  "kernelspec": {
   "display_name": "base",
   "language": "python",
   "name": "python3"
  },
  "language_info": {
   "codemirror_mode": {
    "name": "ipython",
    "version": 3
   },
   "file_extension": ".py",
   "mimetype": "text/x-python",
   "name": "python",
   "nbconvert_exporter": "python",
   "pygments_lexer": "ipython3",
   "version": "3.9.13"
  }
 },
 "nbformat": 4,
 "nbformat_minor": 2
}
